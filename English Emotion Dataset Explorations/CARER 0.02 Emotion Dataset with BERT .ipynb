{
  "nbformat": 4,
  "nbformat_minor": 0,
  "metadata": {
    "colab": {
      "name": "Untitled1.ipynb",
      "provenance": [],
      "collapsed_sections": []
    },
    "kernelspec": {
      "name": "python3",
      "display_name": "Python 3"
    },
    "language_info": {
      "name": "python"
    }
  },
  "cells": [
    {
      "cell_type": "code",
      "metadata": {
        "id": "VHKeHZzjaH5c"
      },
      "source": [
        "%tensorflow_version 2.x\n",
        "\n",
        "import pandas as pd\n",
        "import numpy as np\n",
        "\n",
        "import ktrain\n",
        "from ktrain import text\n",
        "from sklearn.model_selection import train_test_split\n",
        "\n",
        "\n"
      ],
      "execution_count": null,
      "outputs": []
    },
    {
      "cell_type": "code",
      "metadata": {
        "id": "z3Z3PiMnaI4N"
      },
      "source": [
        "temp = pd.read_csv('/content/drive/MyDrive/Colab Notebooks/Dataset/IMDB/carer_0.02_percent.csv')\n",
        "\n",
        "del temp['Unnamed: 0']\n",
        "\n",
        "train, test = train_test_split(temp, test_size=0.2, random_state = 42)\n",
        "num_classes = 5\n",
        "embed_num_dims = 300\n",
        "max_seq_len = 40\n",
        "\n",
        "x_train = train.text.tolist()\n",
        "x_test = test.text.tolist()\n",
        "\n",
        "y_train = train.emotions.tolist()\n",
        "y_test = test.emotions.tolist()\n",
        "\n",
        "\n"
      ],
      "execution_count": null,
      "outputs": []
    },
    {
      "cell_type": "code",
      "metadata": {
        "id": "q_3KvubHdXrz"
      },
      "source": [
        "class_names = ['joy', 'sadness', 'anger', 'fear', 'love', 'surprise']\n"
      ],
      "execution_count": null,
      "outputs": []
    },
    {
      "cell_type": "code",
      "metadata": {
        "colab": {
          "base_uri": "https://localhost:8080/",
          "height": 367
        },
        "id": "u7Qxx0Zodko6",
        "outputId": "39261aa2-bb01-44f5-f5b7-d31070c463ea"
      },
      "source": [
        "(x_train,  y_train), (x_test, y_test), preproc = text.texts_from_array(x_train=x_train, y_train=y_train,\n",
        "                                                                       x_test=x_test, y_test=y_test,\n",
        "                                                                       class_names=class_names,\n",
        "                                                                       preprocess_mode='bert',\n",
        "                                                                       maxlen=max_seq_len)\n"
      ],
      "execution_count": null,
      "outputs": [
        {
          "output_type": "stream",
          "name": "stdout",
          "text": [
            "downloading pretrained BERT model (uncased_L-12_H-768_A-12.zip)...\n",
            "[██████████████████████████████████████████████████]\n",
            "extracting pretrained BERT model...\n",
            "done.\n",
            "\n",
            "cleanup downloaded zip...\n",
            "done.\n",
            "\n",
            "preprocessing train...\n",
            "language: en\n"
          ]
        },
        {
          "output_type": "display_data",
          "data": {
            "text/html": [
              "done."
            ],
            "text/plain": [
              "<IPython.core.display.HTML object>"
            ]
          },
          "metadata": {}
        },
        {
          "output_type": "stream",
          "name": "stdout",
          "text": [
            "Is Multi-Label? False\n",
            "preprocessing test...\n",
            "language: en\n"
          ]
        },
        {
          "output_type": "stream",
          "name": "stderr",
          "text": [
            "/usr/local/lib/python3.7/dist-packages/ktrain/utils.py:600: UserWarning: class_names argument was ignored, as they were extracted from string labels in dataset\n",
            "  if self.get_classes(): warnings.warn('class_names argument was ignored, as they were extracted from string labels in dataset')\n"
          ]
        },
        {
          "output_type": "display_data",
          "data": {
            "text/html": [
              "done."
            ],
            "text/plain": [
              "<IPython.core.display.HTML object>"
            ]
          },
          "metadata": {}
        },
        {
          "output_type": "stream",
          "name": "stdout",
          "text": [
            "task: text classification\n"
          ]
        }
      ]
    },
    {
      "cell_type": "code",
      "metadata": {
        "colab": {
          "base_uri": "https://localhost:8080/"
        },
        "id": "JdafMG7GdoUH",
        "outputId": "d719c3fc-cd82-4fe7-eec5-1d134e277f2b"
      },
      "source": [
        "model = text.text_classifier('bert', train_data=(x_train, y_train), preproc=preproc)"
      ],
      "execution_count": null,
      "outputs": [
        {
          "output_type": "stream",
          "name": "stdout",
          "text": [
            "Is Multi-Label? False\n",
            "maxlen is 40\n",
            "done.\n"
          ]
        }
      ]
    },
    {
      "cell_type": "code",
      "metadata": {
        "id": "hgQApHbVdy4M"
      },
      "source": [
        "learner = ktrain.get_learner(model, train_data=(x_train, y_train), \n",
        "                             val_data=(x_test, y_test),\n",
        "                             batch_size=32)"
      ],
      "execution_count": null,
      "outputs": []
    },
    {
      "cell_type": "code",
      "metadata": {
        "colab": {
          "base_uri": "https://localhost:8080/"
        },
        "id": "FnZLxyDEd4a2",
        "outputId": "22972f60-5c5c-4713-8959-e0f8bd5280dc"
      },
      "source": [
        "learner.fit_onecycle(2e-5, 2)"
      ],
      "execution_count": null,
      "outputs": [
        {
          "output_type": "stream",
          "name": "stdout",
          "text": [
            "\n",
            "\n",
            "begin training using onecycle policy with max lr of 2e-05...\n",
            "Epoch 1/2\n",
            "209/209 [==============================] - 1984s 9s/step - loss: 1.2999 - accuracy: 0.5058 - val_loss: 0.5952 - val_accuracy: 0.7980\n",
            "Epoch 2/2\n",
            "209/209 [==============================] - 1944s 9s/step - loss: 0.3348 - accuracy: 0.8839 - val_loss: 0.2720 - val_accuracy: 0.8957\n"
          ]
        },
        {
          "output_type": "execute_result",
          "data": {
            "text/plain": [
              "<tensorflow.python.keras.callbacks.History at 0x7fc926ebdb90>"
            ]
          },
          "metadata": {},
          "execution_count": 9
        }
      ]
    }
  ]
}