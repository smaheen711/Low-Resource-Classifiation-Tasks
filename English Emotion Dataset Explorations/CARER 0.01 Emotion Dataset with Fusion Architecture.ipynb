{
  "nbformat": 4,
  "nbformat_minor": 0,
  "metadata": {
    "colab": {
      "name": "Untitled1.ipynb",
      "provenance": [],
      "collapsed_sections": []
    },
    "kernelspec": {
      "name": "python3",
      "display_name": "Python 3"
    },
    "language_info": {
      "name": "python"
    }
  },
  "cells": [
    {
      "cell_type": "code",
      "metadata": {
        "id": "37NHwLPV4fGO"
      },
      "source": [
        "def reproduceResult():\n",
        "  seed_value= 0\n",
        "\n",
        "  \n",
        "  with tf.device(\"/cpu:0\"):\n",
        "    ...\n",
        "\n",
        "\n",
        "  os.environ['PYTHONHASHSEED']=str(seed_value)\n",
        "  np.random.seed(0)\n",
        "  rn.seed(0)\n",
        "\n",
        "\n",
        "  session_conf = tf.compat.v1.ConfigProto(intra_op_parallelism_threads=1, \n",
        "                                          inter_op_parallelism_threads=1)\n",
        "\n",
        "\n",
        "  tf.compat.v1.set_random_seed(seed_value)\n",
        "  sess = tf.compat.v1.Session(graph=tf.compat.v1.get_default_graph(), config=session_conf)\n",
        "  tf.compat.v1.keras.backend.set_session(sess)\n",
        "  tf.compat.v1.keras.backend.clear_session()\n",
        "\n",
        "  \n"
      ],
      "execution_count": null,
      "outputs": []
    },
    {
      "cell_type": "code",
      "metadata": {
        "colab": {
          "base_uri": "https://localhost:8080/"
        },
        "id": "lJ4kOFbk4gHm",
        "outputId": "54683b96-a621-4955-9d5c-0e24a523d07c"
      },
      "source": [
        "try:\n",
        "  %tensorflow_version 2.x\n",
        "except Exception:\n",
        "  pass\n",
        "  \n",
        "import os \n",
        "import numpy as np\n",
        "import tensorflow as tf\n",
        "import random as rn\n",
        "from tensorflow import keras\n",
        "\n",
        "reproduceResult()\n",
        "import tempfile\n",
        "import zipfile\n",
        "import pandas as pd\n",
        "import matplotlib.pyplot as plt\n",
        "from sklearn.metrics import accuracy_score, f1_score, confusion_matrix\n",
        "\n",
        "from sklearn.model_selection import train_test_split\n",
        "from tensorflow.keras.preprocessing.text import Tokenizer\n",
        "from tensorflow.keras.preprocessing.sequence import pad_sequences\n",
        "from tensorflow.keras import backend as K\n",
        "\n",
        "\n",
        "from tensorflow.keras import callbacks\n",
        "\n",
        "from keras_lr_finder import LRFinder\n",
        "from clr_callback import CyclicLR\n",
        "\n",
        "import tensorflow_model_optimization as tfmot\n",
        "\n",
        "\n",
        "\n",
        "import keras_tuner\n",
        "from kerastuner.tuners import RandomSearch\n",
        "from kerastuner.engine.hyperparameters import HyperParameters"
      ],
      "execution_count": null,
      "outputs": [
        {
          "output_type": "stream",
          "name": "stderr",
          "text": [
            "/usr/local/lib/python3.7/dist-packages/ipykernel_launcher.py:35: DeprecationWarning: `import kerastuner` is deprecated, please use `import keras_tuner`.\n"
          ]
        }
      ]
    },
    {
      "cell_type": "code",
      "metadata": {
        "id": "UIkDeyEY8_bU"
      },
      "source": [
        ""
      ],
      "execution_count": null,
      "outputs": []
    },
    {
      "cell_type": "code",
      "metadata": {
        "id": "pIyhjB-n_8w8"
      },
      "source": [
        "temp = pd.read_pickle('/content/drive/MyDrive/Colab Notebooks/Dataset/merged_training.pkl')"
      ],
      "execution_count": null,
      "outputs": []
    },
    {
      "cell_type": "code",
      "metadata": {
        "id": "SuNUoV3uAG9W",
        "colab": {
          "base_uri": "https://localhost:8080/",
          "height": 424
        },
        "outputId": "ea821872-ab96-48aa-8c0c-c954b0f377b3"
      },
      "source": [
        "temp"
      ],
      "execution_count": null,
      "outputs": [
        {
          "output_type": "execute_result",
          "data": {
            "text/html": [
              "<div>\n",
              "<style scoped>\n",
              "    .dataframe tbody tr th:only-of-type {\n",
              "        vertical-align: middle;\n",
              "    }\n",
              "\n",
              "    .dataframe tbody tr th {\n",
              "        vertical-align: top;\n",
              "    }\n",
              "\n",
              "    .dataframe thead th {\n",
              "        text-align: right;\n",
              "    }\n",
              "</style>\n",
              "<table border=\"1\" class=\"dataframe\">\n",
              "  <thead>\n",
              "    <tr style=\"text-align: right;\">\n",
              "      <th></th>\n",
              "      <th>text</th>\n",
              "      <th>emotions</th>\n",
              "    </tr>\n",
              "  </thead>\n",
              "  <tbody>\n",
              "    <tr>\n",
              "      <th>27383</th>\n",
              "      <td>i feel awful about it too because it s my job ...</td>\n",
              "      <td>sadness</td>\n",
              "    </tr>\n",
              "    <tr>\n",
              "      <th>110083</th>\n",
              "      <td>im alone i feel awful</td>\n",
              "      <td>sadness</td>\n",
              "    </tr>\n",
              "    <tr>\n",
              "      <th>140764</th>\n",
              "      <td>ive probably mentioned this before but i reall...</td>\n",
              "      <td>joy</td>\n",
              "    </tr>\n",
              "    <tr>\n",
              "      <th>100071</th>\n",
              "      <td>i was feeling a little low few days back</td>\n",
              "      <td>sadness</td>\n",
              "    </tr>\n",
              "    <tr>\n",
              "      <th>2837</th>\n",
              "      <td>i beleive that i am much more sensitive to oth...</td>\n",
              "      <td>love</td>\n",
              "    </tr>\n",
              "    <tr>\n",
              "      <th>...</th>\n",
              "      <td>...</td>\n",
              "      <td>...</td>\n",
              "    </tr>\n",
              "    <tr>\n",
              "      <th>566</th>\n",
              "      <td>that was what i felt when i was finally accept...</td>\n",
              "      <td>joy</td>\n",
              "    </tr>\n",
              "    <tr>\n",
              "      <th>36236</th>\n",
              "      <td>i take every day as it comes i m just focussin...</td>\n",
              "      <td>fear</td>\n",
              "    </tr>\n",
              "    <tr>\n",
              "      <th>76229</th>\n",
              "      <td>i just suddenly feel that everything was fake</td>\n",
              "      <td>sadness</td>\n",
              "    </tr>\n",
              "    <tr>\n",
              "      <th>131640</th>\n",
              "      <td>im feeling more eager than ever to claw back w...</td>\n",
              "      <td>joy</td>\n",
              "    </tr>\n",
              "    <tr>\n",
              "      <th>64703</th>\n",
              "      <td>i give you plenty of attention even when i fee...</td>\n",
              "      <td>sadness</td>\n",
              "    </tr>\n",
              "  </tbody>\n",
              "</table>\n",
              "<p>416809 rows × 2 columns</p>\n",
              "</div>"
            ],
            "text/plain": [
              "                                                     text emotions\n",
              "27383   i feel awful about it too because it s my job ...  sadness\n",
              "110083                              im alone i feel awful  sadness\n",
              "140764  ive probably mentioned this before but i reall...      joy\n",
              "100071           i was feeling a little low few days back  sadness\n",
              "2837    i beleive that i am much more sensitive to oth...     love\n",
              "...                                                   ...      ...\n",
              "566     that was what i felt when i was finally accept...      joy\n",
              "36236   i take every day as it comes i m just focussin...     fear\n",
              "76229       i just suddenly feel that everything was fake  sadness\n",
              "131640  im feeling more eager than ever to claw back w...      joy\n",
              "64703   i give you plenty of attention even when i fee...  sadness\n",
              "\n",
              "[416809 rows x 2 columns]"
            ]
          },
          "metadata": {},
          "execution_count": 5
        }
      ]
    },
    {
      "cell_type": "code",
      "metadata": {
        "id": "Hu4OdKuSAIIx"
      },
      "source": [
        "data_90, data_001= train_test_split(temp, test_size=0.01, stratify = temp['emotions'], random_state = 42)"
      ],
      "execution_count": null,
      "outputs": []
    },
    {
      "cell_type": "code",
      "metadata": {
        "colab": {
          "base_uri": "https://localhost:8080/",
          "height": 424
        },
        "id": "ujkONt72AuCo",
        "outputId": "a762a731-d57d-413a-b5f7-35d6b23dcb96"
      },
      "source": [
        "data_001"
      ],
      "execution_count": null,
      "outputs": [
        {
          "output_type": "execute_result",
          "data": {
            "text/html": [
              "<div>\n",
              "<style scoped>\n",
              "    .dataframe tbody tr th:only-of-type {\n",
              "        vertical-align: middle;\n",
              "    }\n",
              "\n",
              "    .dataframe tbody tr th {\n",
              "        vertical-align: top;\n",
              "    }\n",
              "\n",
              "    .dataframe thead th {\n",
              "        text-align: right;\n",
              "    }\n",
              "</style>\n",
              "<table border=\"1\" class=\"dataframe\">\n",
              "  <thead>\n",
              "    <tr style=\"text-align: right;\">\n",
              "      <th></th>\n",
              "      <th>text</th>\n",
              "      <th>emotions</th>\n",
              "    </tr>\n",
              "  </thead>\n",
              "  <tbody>\n",
              "    <tr>\n",
              "      <th>15557</th>\n",
              "      <td>i feel like cinderalla kena tortured by my ste...</td>\n",
              "      <td>fear</td>\n",
              "    </tr>\n",
              "    <tr>\n",
              "      <th>55740</th>\n",
              "      <td>im so damn scared of hurting peoples feelings ...</td>\n",
              "      <td>anger</td>\n",
              "    </tr>\n",
              "    <tr>\n",
              "      <th>16639</th>\n",
              "      <td>i decided to do a few warm up runs up and down...</td>\n",
              "      <td>sadness</td>\n",
              "    </tr>\n",
              "    <tr>\n",
              "      <th>135510</th>\n",
              "      <td>im no expert on cars but id love it if someone...</td>\n",
              "      <td>joy</td>\n",
              "    </tr>\n",
              "    <tr>\n",
              "      <th>63516</th>\n",
              "      <td>i forget this little address of mine and then ...</td>\n",
              "      <td>sadness</td>\n",
              "    </tr>\n",
              "    <tr>\n",
              "      <th>...</th>\n",
              "      <td>...</td>\n",
              "      <td>...</td>\n",
              "    </tr>\n",
              "    <tr>\n",
              "      <th>6682</th>\n",
              "      <td>i dont know why i am so stuck on that feeling ...</td>\n",
              "      <td>love</td>\n",
              "    </tr>\n",
              "    <tr>\n",
              "      <th>89552</th>\n",
              "      <td>i invest most of my feelings in bands that i l...</td>\n",
              "      <td>joy</td>\n",
              "    </tr>\n",
              "    <tr>\n",
              "      <th>31911</th>\n",
              "      <td>i feel better again</td>\n",
              "      <td>joy</td>\n",
              "    </tr>\n",
              "    <tr>\n",
              "      <th>84162</th>\n",
              "      <td>i often feel like im doomed to be single forev...</td>\n",
              "      <td>sadness</td>\n",
              "    </tr>\n",
              "    <tr>\n",
              "      <th>97488</th>\n",
              "      <td>i love to wear shoes that make noise as i walk...</td>\n",
              "      <td>joy</td>\n",
              "    </tr>\n",
              "  </tbody>\n",
              "</table>\n",
              "<p>4169 rows × 2 columns</p>\n",
              "</div>"
            ],
            "text/plain": [
              "                                                     text emotions\n",
              "15557   i feel like cinderalla kena tortured by my ste...     fear\n",
              "55740   im so damn scared of hurting peoples feelings ...    anger\n",
              "16639   i decided to do a few warm up runs up and down...  sadness\n",
              "135510  im no expert on cars but id love it if someone...      joy\n",
              "63516   i forget this little address of mine and then ...  sadness\n",
              "...                                                   ...      ...\n",
              "6682    i dont know why i am so stuck on that feeling ...     love\n",
              "89552   i invest most of my feelings in bands that i l...      joy\n",
              "31911                                 i feel better again      joy\n",
              "84162   i often feel like im doomed to be single forev...  sadness\n",
              "97488   i love to wear shoes that make noise as i walk...      joy\n",
              "\n",
              "[4169 rows x 2 columns]"
            ]
          },
          "metadata": {},
          "execution_count": 7
        }
      ]
    },
    {
      "cell_type": "code",
      "metadata": {
        "colab": {
          "base_uri": "https://localhost:8080/"
        },
        "id": "va7uWrZ7A2dm",
        "outputId": "53042beb-9b3c-4826-ee54-51ccc9289af2"
      },
      "source": [
        "data_001.emotions.value_counts()"
      ],
      "execution_count": null,
      "outputs": [
        {
          "output_type": "execute_result",
          "data": {
            "text/plain": [
              "joy         1411\n",
              "sadness     1212\n",
              "anger        573\n",
              "fear         477\n",
              "love         346\n",
              "surprise     150\n",
              "Name: emotions, dtype: int64"
            ]
          },
          "metadata": {},
          "execution_count": 8
        }
      ]
    },
    {
      "cell_type": "code",
      "metadata": {
        "id": "d_zaUWc3A6RQ"
      },
      "source": [
        "data_001.to_csv(r'/content/drive/MyDrive/Colab Notebooks/Dataset/IMDB/carer_0.01_percent.csv', index=True,header=True)"
      ],
      "execution_count": null,
      "outputs": []
    },
    {
      "cell_type": "code",
      "metadata": {
        "colab": {
          "base_uri": "https://localhost:8080/",
          "height": 424
        },
        "id": "GDHpK_plBJyQ",
        "outputId": "ff2e8c4e-9cd5-4a23-fb1e-b9d8288ec3ae"
      },
      "source": [
        "temp = pd.read_csv('/content/drive/MyDrive/Colab Notebooks/Dataset/IMDB/carer_0.01_percent.csv')\n",
        "\n",
        "del temp['Unnamed: 0']\n",
        "temp\n"
      ],
      "execution_count": null,
      "outputs": [
        {
          "output_type": "execute_result",
          "data": {
            "text/html": [
              "<div>\n",
              "<style scoped>\n",
              "    .dataframe tbody tr th:only-of-type {\n",
              "        vertical-align: middle;\n",
              "    }\n",
              "\n",
              "    .dataframe tbody tr th {\n",
              "        vertical-align: top;\n",
              "    }\n",
              "\n",
              "    .dataframe thead th {\n",
              "        text-align: right;\n",
              "    }\n",
              "</style>\n",
              "<table border=\"1\" class=\"dataframe\">\n",
              "  <thead>\n",
              "    <tr style=\"text-align: right;\">\n",
              "      <th></th>\n",
              "      <th>text</th>\n",
              "      <th>emotions</th>\n",
              "    </tr>\n",
              "  </thead>\n",
              "  <tbody>\n",
              "    <tr>\n",
              "      <th>0</th>\n",
              "      <td>i feel like cinderalla kena tortured by my ste...</td>\n",
              "      <td>fear</td>\n",
              "    </tr>\n",
              "    <tr>\n",
              "      <th>1</th>\n",
              "      <td>im so damn scared of hurting peoples feelings ...</td>\n",
              "      <td>anger</td>\n",
              "    </tr>\n",
              "    <tr>\n",
              "      <th>2</th>\n",
              "      <td>i decided to do a few warm up runs up and down...</td>\n",
              "      <td>sadness</td>\n",
              "    </tr>\n",
              "    <tr>\n",
              "      <th>3</th>\n",
              "      <td>im no expert on cars but id love it if someone...</td>\n",
              "      <td>joy</td>\n",
              "    </tr>\n",
              "    <tr>\n",
              "      <th>4</th>\n",
              "      <td>i forget this little address of mine and then ...</td>\n",
              "      <td>sadness</td>\n",
              "    </tr>\n",
              "    <tr>\n",
              "      <th>...</th>\n",
              "      <td>...</td>\n",
              "      <td>...</td>\n",
              "    </tr>\n",
              "    <tr>\n",
              "      <th>4164</th>\n",
              "      <td>i dont know why i am so stuck on that feeling ...</td>\n",
              "      <td>love</td>\n",
              "    </tr>\n",
              "    <tr>\n",
              "      <th>4165</th>\n",
              "      <td>i invest most of my feelings in bands that i l...</td>\n",
              "      <td>joy</td>\n",
              "    </tr>\n",
              "    <tr>\n",
              "      <th>4166</th>\n",
              "      <td>i feel better again</td>\n",
              "      <td>joy</td>\n",
              "    </tr>\n",
              "    <tr>\n",
              "      <th>4167</th>\n",
              "      <td>i often feel like im doomed to be single forev...</td>\n",
              "      <td>sadness</td>\n",
              "    </tr>\n",
              "    <tr>\n",
              "      <th>4168</th>\n",
              "      <td>i love to wear shoes that make noise as i walk...</td>\n",
              "      <td>joy</td>\n",
              "    </tr>\n",
              "  </tbody>\n",
              "</table>\n",
              "<p>4169 rows × 2 columns</p>\n",
              "</div>"
            ],
            "text/plain": [
              "                                                   text emotions\n",
              "0     i feel like cinderalla kena tortured by my ste...     fear\n",
              "1     im so damn scared of hurting peoples feelings ...    anger\n",
              "2     i decided to do a few warm up runs up and down...  sadness\n",
              "3     im no expert on cars but id love it if someone...      joy\n",
              "4     i forget this little address of mine and then ...  sadness\n",
              "...                                                 ...      ...\n",
              "4164  i dont know why i am so stuck on that feeling ...     love\n",
              "4165  i invest most of my feelings in bands that i l...      joy\n",
              "4166                                i feel better again      joy\n",
              "4167  i often feel like im doomed to be single forev...  sadness\n",
              "4168  i love to wear shoes that make noise as i walk...      joy\n",
              "\n",
              "[4169 rows x 2 columns]"
            ]
          },
          "metadata": {},
          "execution_count": 10
        }
      ]
    },
    {
      "cell_type": "code",
      "metadata": {
        "colab": {
          "base_uri": "https://localhost:8080/"
        },
        "id": "XMJr5kFiGwZv",
        "outputId": "e3f0deeb-da6e-4473-8707-fd0a9321b211"
      },
      "source": [
        "temp.emotions.value_counts()"
      ],
      "execution_count": null,
      "outputs": [
        {
          "output_type": "execute_result",
          "data": {
            "text/plain": [
              "joy         1411\n",
              "sadness     1212\n",
              "anger        573\n",
              "fear         477\n",
              "love         346\n",
              "surprise     150\n",
              "Name: emotions, dtype: int64"
            ]
          },
          "metadata": {},
          "execution_count": 11
        }
      ]
    },
    {
      "cell_type": "code",
      "metadata": {
        "colab": {
          "base_uri": "https://localhost:8080/"
        },
        "id": "1A6FZm46ByZd",
        "outputId": "65f2f5d7-083e-4dc8-d2ab-ad8263fc7a5e"
      },
      "source": [
        "max = 0\n",
        "sum = 0\n",
        "for sentence in temp['text']:\n",
        "  val = len(list(sentence.split(\" \")))\n",
        "  sum +=val\n",
        "  if max < val:\n",
        "    max = val\n",
        "\n",
        "max"
      ],
      "execution_count": null,
      "outputs": [
        {
          "output_type": "execute_result",
          "data": {
            "text/plain": [
              "78"
            ]
          },
          "metadata": {},
          "execution_count": 12
        }
      ]
    },
    {
      "cell_type": "code",
      "metadata": {
        "colab": {
          "base_uri": "https://localhost:8080/"
        },
        "id": "96_tPDZ6CQ03",
        "outputId": "a6081e8f-459d-4518-8798-6ab9ddb7bf23"
      },
      "source": [
        "sum/4169"
      ],
      "execution_count": null,
      "outputs": [
        {
          "output_type": "execute_result",
          "data": {
            "text/plain": [
              "19.18541616694651"
            ]
          },
          "metadata": {},
          "execution_count": 13
        }
      ]
    },
    {
      "cell_type": "code",
      "metadata": {
        "id": "DpoNf1JDBQMX"
      },
      "source": [
        "# MAX_FEATURES = 6000\n",
        "embed_num_dims = 300\n",
        "tokenizer = Tokenizer()\n",
        "tokenizer.fit_on_texts(temp['text'])\n",
        "index_of_words = tokenizer.word_index\n",
        "vocab_size = len(index_of_words) + 1\n",
        "\n",
        "list_tokenized_train = tokenizer.texts_to_sequences(temp['text'])\n",
        "  \n",
        "  \n",
        "MAX_LEN = 30  \n",
        "X_train = pad_sequences(list_tokenized_train, maxlen=MAX_LEN,padding='pre')\n",
        "y_train = temp['emotions']\n",
        "\n",
        "\n",
        "X_train, X_test = train_test_split(X_train, test_size=0.2,  random_state = 42)\n",
        "y_train, y_test = train_test_split(y_train, test_size=0.2,  random_state = 42)\n",
        "\n",
        "encoding = {\n",
        "    'joy': 0,\n",
        "    'sadness': 1,\n",
        "    'anger': 2,\n",
        "    'fear': 3,\n",
        "    'love': 4,\n",
        "    'surprise': 5\n",
        "}\n",
        "\n",
        "y_train = [encoding[x] for x in y_train]\n",
        "y_test = [encoding[x] for x in y_test]\n",
        "\n",
        "\n",
        "\n",
        "y_train = tf.keras.utils.to_categorical(y_train)\n",
        "y_test = tf.keras.utils.to_categorical(y_test)\n"
      ],
      "execution_count": null,
      "outputs": []
    },
    {
      "cell_type": "code",
      "metadata": {
        "colab": {
          "base_uri": "https://localhost:8080/"
        },
        "id": "IrPYQ8-eCsJr",
        "outputId": "110b1d4c-9c11-4c50-85e2-e1b826c099ee"
      },
      "source": [
        "print(X_train.shape)\n",
        "print(X_test.shape)\n",
        "print(y_train.shape)\n",
        "print(y_test.shape)\n"
      ],
      "execution_count": null,
      "outputs": [
        {
          "output_type": "stream",
          "name": "stdout",
          "text": [
            "(3335, 30)\n",
            "(834, 30)\n",
            "(3335, 6)\n",
            "(834, 6)\n"
          ]
        }
      ]
    },
    {
      "cell_type": "code",
      "metadata": {
        "id": "hVpSSRGNCZw1"
      },
      "source": [
        "def create_embedding_matrix(word_index, embedding_dim):\n",
        "    vocab_size = len(word_index) + 1  # Adding again 1 because of reserved 0 index\n",
        "    embedding_matrix = np.zeros((vocab_size, embedding_dim))\n",
        "    with open('/content/drive/MyDrive/Colab Notebooks/Dataset/cc.en.300.vec') as f:\n",
        "        for line in f:\n",
        "            word, *vector = line.split()\n",
        "            if word in word_index:\n",
        "                idx = word_index[word] \n",
        "                embedding_matrix[idx] = np.array(\n",
        "                    vector, dtype=np.float32)[:embedding_dim]\n",
        "    return embedding_matrix\n",
        "\n",
        "\n",
        "embedd_matrix = create_embedding_matrix(index_of_words, embed_num_dims)\n"
      ],
      "execution_count": null,
      "outputs": []
    },
    {
      "cell_type": "code",
      "metadata": {
        "colab": {
          "base_uri": "https://localhost:8080/"
        },
        "id": "NXXPIKiJCtQY",
        "outputId": "1b4915f5-81e1-44d6-d2e1-090fe3c515ae"
      },
      "source": [
        "from tensorflow.keras import regularizers\n",
        "import time\n",
        "LOG_DIR = f\"{int(time.time())}\"\n",
        "seed_value= 0\n",
        "\n",
        "\n",
        "\n",
        "def build_model(hp):\n",
        "  \n",
        "  reproduceResult()\n",
        "\n",
        "  print('Ya it comes here')\n",
        "  unit_attention = hp.Int(\"attention_unit\",min_value =32, max_value = 128, step = 16)\n",
        "  fake_val = hp.Int(\"cnn_1_unit\",min_value =16, max_value = 96, step = 16)\n",
        "  cnn_1_unit = hp.Int(\"cnn_1_unit\",min_value =16, max_value = 96, step = 16)\n",
        "  cnn_1_dropout = hp.Float(\"cnn_1_dropout\",min_value = 0.1,max_value = 0.3,step = 0.1)\n",
        "\n",
        "  lstm_unit = hp.Int(\"lstm_unit\",min_value =64, max_value = 256, step = 32)\n",
        "  lstm_dropout = hp.Float(\"lstm_dropout\",min_value = 0.1,max_value = 0.5,step = 0.1)\n",
        "  cnn_2_unit = hp.Int(\"cnn_2_unit\",min_value =64, max_value = 256, step = 32)\n",
        "  cnn_2_dropout = hp.Float(\"cnn_2_dropout\",min_value = 0.1,max_value = 0.5,step = 0.1)\n",
        "\n",
        "\n",
        "\n",
        "  seq_input = keras.layers.Input(shape=(MAX_LEN,))\n",
        "\n",
        "  embedded = keras.layers.Embedding(vocab_size,\n",
        "                          embed_num_dims,\n",
        "                          input_length = MAX_LEN,trainable=True,\n",
        "                          weights = [embedd_matrix])(seq_input)\n",
        "\n",
        "\n",
        "  cnn = keras.layers.Conv1D(cnn_1_unit,3)(embedded)\n",
        "  cnn = keras.layers.Activation(activation='relu')(cnn)\n",
        "  cnn = keras.layers.BatchNormalization()(cnn)\n",
        "  cnn = keras.layers.Dropout(cnn_1_dropout,seed=seed_value)(cnn)\n",
        "\n",
        "  attention_vec = keras.layers.TimeDistributed(keras.layers.Dense(unit_attention))(cnn)\n",
        "  attention_vec = keras.layers.Reshape((28,unit_attention))(attention_vec)\n",
        "  attention_vec = keras.layers.Activation('relu', name = 'cnn_attention_vec')(attention_vec)\n",
        "  attention_output = keras.layers.Dot(axes = 1)([cnn, attention_vec])\n",
        "\n",
        "\n",
        "  lstm = keras.layers.GRU(lstm_unit,return_sequences=True,input_shape =(28,))(attention_output)\n",
        "  lstm = keras.layers.Activation(activation='relu')(lstm)\n",
        "  lstm = keras.layers.BatchNormalization()(lstm)\n",
        "  lstm = keras.layers.Dropout(lstm_dropout,seed=seed_value)(lstm)\n",
        "  \n",
        "  \n",
        "\n",
        "  cnn_2 = keras.layers.Conv1D(cnn_2_unit,3)(lstm)\n",
        "  cnn_2 = keras.layers.Activation(activation='relu')(cnn_2)\n",
        "  cnn_2 = keras.layers.BatchNormalization()(cnn_2)\n",
        "  cnn_2 = keras.layers.Dropout(cnn_2_dropout,seed=seed_value)(cnn_2)\n",
        "\n",
        "  max_pooling = keras.layers.GlobalMaxPooling1D()(cnn_2)\n",
        "  output = keras.layers.Dense(6, activation='softmax')(max_pooling)\n",
        "\n",
        "  model = keras.Model(inputs = [seq_input], outputs = output)\n",
        "  model.compile(loss = 'categorical_crossentropy', optimizer = 'adam', metrics = ['accuracy'])\n",
        "\n",
        "  return model\n",
        "\n",
        "\n",
        "stop = tf.keras.callbacks.EarlyStopping(monitor='val_accuracy',\n",
        "                              patience=4,\n",
        "                              restore_best_weights=True,\n",
        "                              verbose=0, mode='max')\n",
        "\n",
        "\n",
        "clr_step_size = int((len(X_train)/16))\n",
        "base_lr = 2e-5\n",
        "max_lr = 1e-3\n",
        "mode = 'exp_range'\n",
        "\n",
        "\n",
        "clr = CyclicLR(base_lr = base_lr, max_lr = max_lr , step_size = clr_step_size, mode = mode)\n",
        "\n",
        "\n",
        "\n",
        "tuner = RandomSearch(\n",
        "    build_model,\n",
        "    objective = keras_tuner.Objective('val_accuracy', direction=\"max\"),\n",
        "    max_trials = 30,\n",
        "    executions_per_trial = 1,\n",
        "    directory = LOG_DIR\n",
        "    )\n",
        "\n",
        "tuner.search(x=X_train,y = y_train,epochs = 20, batch_size = 32,callbacks = [stop], \n",
        "             validation_data = (X_test,y_test))\n",
        "\n",
        "\n",
        "tuner.results_summary()"
      ],
      "execution_count": null,
      "outputs": [
        {
          "output_type": "stream",
          "name": "stdout",
          "text": [
            "Trial 30 Complete [00h 02m 14s]\n",
            "val_accuracy: 0.371702641248703\n",
            "\n",
            "Best val_accuracy So Far: 0.8465228080749512\n",
            "Total elapsed time: 02h 18m 39s\n",
            "INFO:tensorflow:Oracle triggered exit\n",
            "Results summary\n",
            "Results in 1632293025/untitled_project\n",
            "Showing 10 best trials\n",
            "Objective(name='val_accuracy', direction='max')\n",
            "Trial summary\n",
            "Hyperparameters:\n",
            "attention_unit: 48\n",
            "cnn_1_unit: 32\n",
            "cnn_1_dropout: 0.2\n",
            "lstm_unit: 224\n",
            "lstm_dropout: 0.2\n",
            "cnn_2_unit: 96\n",
            "cnn_2_dropout: 0.30000000000000004\n",
            "Score: 0.8465228080749512\n",
            "Trial summary\n",
            "Hyperparameters:\n",
            "attention_unit: 96\n",
            "cnn_1_unit: 16\n",
            "cnn_1_dropout: 0.1\n",
            "lstm_unit: 160\n",
            "lstm_dropout: 0.5\n",
            "cnn_2_unit: 160\n",
            "cnn_2_dropout: 0.4\n",
            "Score: 0.8225419521331787\n",
            "Trial summary\n",
            "Hyperparameters:\n",
            "attention_unit: 112\n",
            "cnn_1_unit: 32\n",
            "cnn_1_dropout: 0.2\n",
            "lstm_unit: 192\n",
            "lstm_dropout: 0.2\n",
            "cnn_2_unit: 160\n",
            "cnn_2_dropout: 0.5\n",
            "Score: 0.8153477311134338\n",
            "Trial summary\n",
            "Hyperparameters:\n",
            "attention_unit: 64\n",
            "cnn_1_unit: 80\n",
            "cnn_1_dropout: 0.2\n",
            "lstm_unit: 256\n",
            "lstm_dropout: 0.2\n",
            "cnn_2_unit: 160\n",
            "cnn_2_dropout: 0.2\n",
            "Score: 0.8093525171279907\n",
            "Trial summary\n",
            "Hyperparameters:\n",
            "attention_unit: 80\n",
            "cnn_1_unit: 64\n",
            "cnn_1_dropout: 0.2\n",
            "lstm_unit: 160\n",
            "lstm_dropout: 0.1\n",
            "cnn_2_unit: 224\n",
            "cnn_2_dropout: 0.30000000000000004\n",
            "Score: 0.8045563697814941\n",
            "Trial summary\n",
            "Hyperparameters:\n",
            "attention_unit: 96\n",
            "cnn_1_unit: 48\n",
            "cnn_1_dropout: 0.2\n",
            "lstm_unit: 128\n",
            "lstm_dropout: 0.30000000000000004\n",
            "cnn_2_unit: 160\n",
            "cnn_2_dropout: 0.2\n",
            "Score: 0.8045563697814941\n",
            "Trial summary\n",
            "Hyperparameters:\n",
            "attention_unit: 48\n",
            "cnn_1_unit: 32\n",
            "cnn_1_dropout: 0.2\n",
            "lstm_unit: 96\n",
            "lstm_dropout: 0.30000000000000004\n",
            "cnn_2_unit: 224\n",
            "cnn_2_dropout: 0.1\n",
            "Score: 0.7841726541519165\n",
            "Trial summary\n",
            "Hyperparameters:\n",
            "attention_unit: 48\n",
            "cnn_1_unit: 96\n",
            "cnn_1_dropout: 0.2\n",
            "lstm_unit: 192\n",
            "lstm_dropout: 0.30000000000000004\n",
            "cnn_2_unit: 128\n",
            "cnn_2_dropout: 0.1\n",
            "Score: 0.7757793664932251\n",
            "Trial summary\n",
            "Hyperparameters:\n",
            "attention_unit: 96\n",
            "cnn_1_unit: 32\n",
            "cnn_1_dropout: 0.2\n",
            "lstm_unit: 160\n",
            "lstm_dropout: 0.2\n",
            "cnn_2_unit: 160\n",
            "cnn_2_dropout: 0.4\n",
            "Score: 0.7733812928199768\n",
            "Trial summary\n",
            "Hyperparameters:\n",
            "attention_unit: 80\n",
            "cnn_1_unit: 80\n",
            "cnn_1_dropout: 0.2\n",
            "lstm_unit: 192\n",
            "lstm_dropout: 0.1\n",
            "cnn_2_unit: 64\n",
            "cnn_2_dropout: 0.2\n",
            "Score: 0.7517985701560974\n"
          ]
        }
      ]
    },
    {
      "cell_type": "code",
      "metadata": {
        "id": "VRwDljkVkc54"
      },
      "source": [
        ""
      ],
      "execution_count": null,
      "outputs": []
    }
  ]
}