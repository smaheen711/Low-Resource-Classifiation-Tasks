{
  "nbformat": 4,
  "nbformat_minor": 0,
  "metadata": {
    "colab": {
      "name": "75_percent_mBERT_git.ipynb",
      "provenance": [],
      "collapsed_sections": []
    },
    "kernelspec": {
      "name": "python3",
      "display_name": "Python 3"
    },
    "language_info": {
      "name": "python"
    }
  },
  "cells": [
    {
      "cell_type": "code",
      "metadata": {
        "id": "udM33upN_ZXP"
      },
      "source": [
        "%tensorflow_version 2.x\n",
        "\n",
        "import pandas as pd\n",
        "import numpy as np\n",
        "\n",
        "import ktrain\n",
        "from ktrain import text\n",
        "from sklearn.model_selection import train_test_split\n",
        "\n",
        "\n"
      ],
      "execution_count": null,
      "outputs": []
    },
    {
      "cell_type": "code",
      "metadata": {
        "id": "5sKgMiulbHry"
      },
      "source": [
        "# temp = {'25 words':17315,'50 words':22773, '75 words':26065, '100 words:'28572}"
      ],
      "execution_count": null,
      "outputs": []
    },
    {
      "cell_type": "code",
      "metadata": {
        "id": "bJpG3YxDKajc"
      },
      "source": [
        "temp = pd.read_excel('/content/drive/My Drive/Colab Notebooks/Datasets/final_dataset_25.xlsx')\n",
        "\n",
        "del temp['Unnamed: 0']\n",
        "\n",
        "train, test = train_test_split(temp, test_size=0.2, stratify = temp['Emotion'], random_state = 42)\n",
        "num_classes = 6\n",
        "embed_num_dims = 300\n",
        "max_seq_len = 50\n",
        "\n",
        "x_train = train.Text.tolist()\n",
        "x_test = test.Text.tolist()\n",
        "\n",
        "y_train = train.Emotion.tolist()\n",
        "y_test = test.Emotion.tolist()\n",
        "\n",
        "# data = data_train.append(data_test, ignore_index=True)\n",
        "class_names = ['happy', 'angry', 'sad', 'disgust', 'surprise','fear']\n",
        "\n",
        "\n"
      ],
      "execution_count": null,
      "outputs": []
    },
    {
      "cell_type": "code",
      "metadata": {
        "id": "6VnA4Z_8KbnC"
      },
      "source": [
        "encoding = {\n",
        "    'happy': 0,\n",
        "    'angry': 1,\n",
        "    'sad': 2,\n",
        "    'disgust': 3,\n",
        "    'surprise': 4,\n",
        "    'fear': 5\n",
        "}\n",
        "\n",
        "y_train = [encoding[i] for i in y_train]\n",
        "y_test = [encoding[i] for i in y_test]"
      ],
      "execution_count": null,
      "outputs": []
    },
    {
      "cell_type": "code",
      "metadata": {
        "colab": {
          "base_uri": "https://localhost:8080/",
          "height": 163
        },
        "id": "XdfEOSk9Ln4O",
        "outputId": "9423937c-a42d-41db-eb24-c628c454ef46"
      },
      "source": [
        "(x_train,  y_train), (x_test, y_test), preproc = text.texts_from_array(x_train=x_train, y_train=y_train,\n",
        "                                                                       x_test=x_test, y_test=y_test,\n",
        "                                                                       class_names=class_names,\n",
        "                                                                       preprocess_mode='bert',\n",
        "                                                                       maxlen=50, \n",
        "                                                                       max_features=26065)"
      ],
      "execution_count": null,
      "outputs": [
        {
          "output_type": "stream",
          "text": [
            "preprocessing train...\n",
            "language: bn\n"
          ],
          "name": "stdout"
        },
        {
          "output_type": "display_data",
          "data": {
            "text/html": [
              "done."
            ],
            "text/plain": [
              "<IPython.core.display.HTML object>"
            ]
          },
          "metadata": {
            "tags": []
          }
        },
        {
          "output_type": "stream",
          "text": [
            "Is Multi-Label? False\n",
            "preprocessing test...\n",
            "language: bn\n"
          ],
          "name": "stdout"
        },
        {
          "output_type": "display_data",
          "data": {
            "text/html": [
              "done."
            ],
            "text/plain": [
              "<IPython.core.display.HTML object>"
            ]
          },
          "metadata": {
            "tags": []
          }
        },
        {
          "output_type": "stream",
          "text": [
            "task: text classification\n"
          ],
          "name": "stdout"
        }
      ]
    },
    {
      "cell_type": "code",
      "metadata": {
        "colab": {
          "base_uri": "https://localhost:8080/"
        },
        "id": "V1uXHaXtMX2L",
        "outputId": "5b1f35ab-b6b2-4694-c609-e81a3bf86fbe"
      },
      "source": [
        "model = text.text_classifier('bert', train_data=(x_train, y_train), preproc=preproc)"
      ],
      "execution_count": null,
      "outputs": [
        {
          "output_type": "stream",
          "text": [
            "Is Multi-Label? False\n",
            "maxlen is 50\n",
            "done.\n"
          ],
          "name": "stdout"
        }
      ]
    },
    {
      "cell_type": "code",
      "metadata": {
        "id": "_QcmGvpTXJ_r"
      },
      "source": [
        "learner = ktrain.get_learner(model, train_data=(x_train, y_train), \n",
        "                             val_data=(x_test, y_test),\n",
        "                             batch_size=64)"
      ],
      "execution_count": null,
      "outputs": []
    },
    {
      "cell_type": "code",
      "metadata": {
        "id": "dM2HId2tXOb3",
        "colab": {
          "base_uri": "https://localhost:8080/"
        },
        "outputId": "a32630fc-55eb-4695-c94f-d82013c4ddeb"
      },
      "source": [
        "hist = learner.fit_onecycle(2e-5, 10)\n",
        "\n"
      ],
      "execution_count": null,
      "outputs": [
        {
          "output_type": "stream",
          "text": [
            "\n",
            "\n",
            "begin training using onecycle policy with max lr of 2e-05...\n",
            "Epoch 1/10\n",
            "338/338 [==============================] - 255s 707ms/step - loss: 1.7304 - accuracy: 0.2517 - val_loss: 1.5729 - val_accuracy: 0.3741\n",
            "Epoch 2/10\n",
            "338/338 [==============================] - 232s 687ms/step - loss: 1.4389 - accuracy: 0.4404 - val_loss: 1.2000 - val_accuracy: 0.5589\n",
            "Epoch 3/10\n",
            "338/338 [==============================] - 231s 685ms/step - loss: 1.0650 - accuracy: 0.6170 - val_loss: 0.9582 - val_accuracy: 0.6698\n",
            "Epoch 4/10\n",
            "338/338 [==============================] - 230s 681ms/step - loss: 0.7689 - accuracy: 0.7344 - val_loss: 0.7652 - val_accuracy: 0.7530\n",
            "Epoch 5/10\n",
            "338/338 [==============================] - 230s 679ms/step - loss: 0.5718 - accuracy: 0.8034 - val_loss: 0.7560 - val_accuracy: 0.7656\n",
            "Epoch 6/10\n",
            "338/338 [==============================] - 230s 680ms/step - loss: 0.4218 - accuracy: 0.8579 - val_loss: 0.7538 - val_accuracy: 0.7943\n",
            "Epoch 7/10\n",
            "338/338 [==============================] - 229s 679ms/step - loss: 0.2905 - accuracy: 0.9037 - val_loss: 0.6980 - val_accuracy: 0.8193\n",
            "Epoch 8/10\n",
            "338/338 [==============================] - 228s 675ms/step - loss: 0.2047 - accuracy: 0.9288 - val_loss: 0.7234 - val_accuracy: 0.8233\n",
            "Epoch 9/10\n",
            "338/338 [==============================] - 228s 676ms/step - loss: 0.1619 - accuracy: 0.9421 - val_loss: 0.7309 - val_accuracy: 0.8328\n",
            "Epoch 10/10\n",
            "338/338 [==============================] - 228s 675ms/step - loss: 0.1267 - accuracy: 0.9538 - val_loss: 0.7389 - val_accuracy: 0.8328\n"
          ],
          "name": "stdout"
        },
        {
          "output_type": "execute_result",
          "data": {
            "text/plain": [
              "<tensorflow.python.keras.callbacks.History at 0x7fe1cd03d7d0>"
            ]
          },
          "metadata": {
            "tags": []
          },
          "execution_count": 17
        }
      ]
    }
  ]
}