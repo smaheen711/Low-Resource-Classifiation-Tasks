{
  "nbformat": 4,
  "nbformat_minor": 0,
  "metadata": {
    "colab": {
      "name": "Untitled1.ipynb",
      "provenance": [],
      "collapsed_sections": []
    },
    "kernelspec": {
      "name": "python3",
      "display_name": "Python 3"
    },
    "language_info": {
      "name": "python"
    }
  },
  "cells": [
    {
      "cell_type": "code",
      "metadata": {
        "id": "ldu0XhGy9gfC"
      },
      "source": [
        "%tensorflow_version 2.x\n",
        "\n",
        "import pandas as pd\n",
        "import numpy as np\n",
        "\n",
        "import ktrain\n",
        "from ktrain import text\n",
        "from sklearn.model_selection import train_test_split\n",
        "\n",
        "\n"
      ],
      "execution_count": null,
      "outputs": []
    },
    {
      "cell_type": "code",
      "metadata": {
        "id": "bKum3uta9hhA"
      },
      "source": [
        "temp = pd.read_csv('/content/drive/MyDrive/Colab Notebooks/Dataset/IMDB/imdb_10_percent.csv')\n",
        "\n",
        "del temp['Unnamed: 0']\n",
        "\n",
        "train, test = train_test_split(temp, test_size=0.2, random_state = 42)\n",
        "num_classes = 2\n",
        "embed_num_dims = 300\n",
        "max_seq_len = 130\n",
        "\n",
        "x_train = train.Processed_Reviews.tolist()\n",
        "x_test = test.Processed_Reviews.tolist()\n",
        "\n",
        "y_train = train.sentiment.tolist()\n",
        "y_test = test.sentiment.tolist()\n",
        "\n",
        "\n"
      ],
      "execution_count": null,
      "outputs": []
    },
    {
      "cell_type": "code",
      "metadata": {
        "id": "iCE43KEQD2H1"
      },
      "source": [
        "class_names = [0, 1]\n"
      ],
      "execution_count": null,
      "outputs": []
    },
    {
      "cell_type": "code",
      "metadata": {
        "colab": {
          "base_uri": "https://localhost:8080/",
          "height": 163
        },
        "id": "MiAXHBZT-KCS",
        "outputId": "55b8c4e7-4531-4fbf-dd13-feff9baa1705"
      },
      "source": [
        "(x_train,  y_train), (x_test, y_test), preproc = text.texts_from_array(x_train=x_train, y_train=y_train,\n",
        "                                                                       x_test=x_test, y_test=y_test,\n",
        "                                                                       class_names=class_names,\n",
        "                                                                       preprocess_mode='bert', max_features = 5000,\n",
        "                                                                       maxlen=max_seq_len)\n"
      ],
      "execution_count": null,
      "outputs": [
        {
          "output_type": "stream",
          "name": "stdout",
          "text": [
            "preprocessing train...\n",
            "language: en\n"
          ]
        },
        {
          "output_type": "display_data",
          "data": {
            "text/html": [
              "done."
            ],
            "text/plain": [
              "<IPython.core.display.HTML object>"
            ]
          },
          "metadata": {}
        },
        {
          "output_type": "stream",
          "name": "stdout",
          "text": [
            "Is Multi-Label? False\n",
            "preprocessing test...\n",
            "language: en\n"
          ]
        },
        {
          "output_type": "display_data",
          "data": {
            "text/html": [
              "done."
            ],
            "text/plain": [
              "<IPython.core.display.HTML object>"
            ]
          },
          "metadata": {}
        },
        {
          "output_type": "stream",
          "name": "stdout",
          "text": [
            "task: text classification\n"
          ]
        }
      ]
    },
    {
      "cell_type": "code",
      "metadata": {
        "colab": {
          "base_uri": "https://localhost:8080/"
        },
        "id": "0iDC5wrB-Rfx",
        "outputId": "8c83bc4b-713c-42bc-fccd-fedcdb1ec098"
      },
      "source": [
        "model = text.text_classifier('bert', train_data=(x_train, y_train), preproc=preproc)"
      ],
      "execution_count": null,
      "outputs": [
        {
          "output_type": "stream",
          "name": "stdout",
          "text": [
            "Is Multi-Label? False\n",
            "maxlen is 130\n",
            "done.\n"
          ]
        }
      ]
    },
    {
      "cell_type": "code",
      "metadata": {
        "id": "SvJ_TOVe-S4b"
      },
      "source": [
        "learner = ktrain.get_learner(model, train_data=(x_train, y_train), \n",
        "                             val_data=(x_test, y_test),\n",
        "                             batch_size=32)"
      ],
      "execution_count": null,
      "outputs": []
    },
    {
      "cell_type": "code",
      "metadata": {
        "colab": {
          "base_uri": "https://localhost:8080/"
        },
        "id": "syrVt_hx-VL5",
        "outputId": "edd4bffc-f03d-4c5f-977e-47f5985383e2"
      },
      "source": [
        "learner.fit_onecycle(2e-5, 2)"
      ],
      "execution_count": null,
      "outputs": [
        {
          "output_type": "stream",
          "name": "stdout",
          "text": [
            "\n",
            "\n",
            "begin training using onecycle policy with max lr of 2e-05...\n",
            "Epoch 1/2\n",
            "125/125 [==============================] - 264s 2s/step - loss: 0.5523 - accuracy: 0.6977 - val_loss: 0.3932 - val_accuracy: 0.8250\n",
            "Epoch 2/2\n",
            "125/125 [==============================] - 242s 2s/step - loss: 0.3139 - accuracy: 0.8675 - val_loss: 0.3633 - val_accuracy: 0.8490\n"
          ]
        },
        {
          "output_type": "execute_result",
          "data": {
            "text/plain": [
              "<tensorflow.python.keras.callbacks.History at 0x7fc68c533150>"
            ]
          },
          "metadata": {},
          "execution_count": 19
        }
      ]
    }
  ]
}